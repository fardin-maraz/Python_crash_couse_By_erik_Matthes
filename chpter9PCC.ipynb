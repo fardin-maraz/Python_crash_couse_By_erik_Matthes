{
  "nbformat": 4,
  "nbformat_minor": 0,
  "metadata": {
    "colab": {
      "provenance": [],
      "authorship_tag": "ABX9TyPEakWHt2uR02MIsm0N4axK",
      "include_colab_link": true
    },
    "kernelspec": {
      "name": "python3",
      "display_name": "Python 3"
    },
    "language_info": {
      "name": "python"
    }
  },
  "cells": [
    {
      "cell_type": "markdown",
      "metadata": {
        "id": "view-in-github",
        "colab_type": "text"
      },
      "source": [
        "<a href=\"https://colab.research.google.com/github/fardin-maraz/Python_crash_couse_By_erik_Matthes/blob/main/chpter9PCC.ipynb\" target=\"_parent\"><img src=\"https://colab.research.google.com/assets/colab-badge.svg\" alt=\"Open In Colab\"/></a>"
      ]
    },
    {
      "cell_type": "markdown",
      "source": [
        "Try it yourself 9.1\n"
      ],
      "metadata": {
        "id": "ZlhO0zTpnn-u"
      }
    },
    {
      "cell_type": "code",
      "execution_count": null,
      "metadata": {
        "id": "M28FZqtRmvZq",
        "colab": {
          "base_uri": "https://localhost:8080/"
        },
        "outputId": "00426fde-a9de-456c-d073-3dce91b4eb88"
      },
      "outputs": [
        {
          "output_type": "stream",
          "name": "stdout",
          "text": [
            "FAM Kitchen\n",
            "Chinesse\n",
            "Name of our restaurant is : FAM Kitchen\n",
            "Cuisine type : Chinesse\n",
            "Restaurant is open\n"
          ]
        }
      ],
      "source": [
        "class Restaurant:\n",
        "    \"\"\" creating a restaurant object\"\"\"\n",
        "\n",
        "    def __init__(self,name,cuisine_type):\n",
        "        self.restaurant_name = name\n",
        "        self.cuisine_type = cuisine_type\n",
        "\n",
        "    def describe_restaurant(self):\n",
        "        print(f\"Name of our restaurant is : {self.restaurant_name}\")\n",
        "        print(f\"Cuisine type : {self.cuisine_type}\")\n",
        "\n",
        "    def open_restaurant(self):\n",
        "        print('Restaurant is open')\n",
        "\n",
        "\n",
        "my_restaurant = Restaurant('FAM Kitchen','Chinesse')\n",
        "\n",
        "print(my_restaurant.restaurant_name);\n",
        "print(my_restaurant.cuisine_type);\n",
        "\n",
        "my_restaurant.describe_restaurant()\n",
        "my_restaurant.open_restaurant()"
      ]
    },
    {
      "cell_type": "markdown",
      "source": [
        "Try it yourself 9.2\n"
      ],
      "metadata": {
        "id": "lI8_3BEP-_qG"
      }
    },
    {
      "cell_type": "code",
      "source": [
        "my_restaurant_1 = Restaurant('FAM kitchen 1','italian')\n",
        "my_restaurant_2 = Restaurant('FAM kitchen 2','Bangiladeshi')\n",
        "my_restaurant_3 = Restaurant('FAM kitchen 3','Indian')\n",
        "\n",
        "my_restaurant_1.describe_restaurant()\n",
        "my_restaurant_2.describe_restaurant()\n",
        "my_restaurant_3.describe_restaurant()"
      ],
      "metadata": {
        "colab": {
          "base_uri": "https://localhost:8080/"
        },
        "id": "cvjc6Fb8_Dpr",
        "outputId": "35036591-bb66-457b-ea45-df373f2f154d"
      },
      "execution_count": null,
      "outputs": [
        {
          "output_type": "stream",
          "name": "stdout",
          "text": [
            "Name of our restaurant is : FAM kitchen 1\n",
            "Cuisine type : italian\n",
            "Name of our restaurant is : FAM kitchen 2\n",
            "Cuisine type : Bangiladeshi\n",
            "Name of our restaurant is : FAM kitchen 3\n",
            "Cuisine type : Indian\n"
          ]
        }
      ]
    },
    {
      "cell_type": "markdown",
      "source": [
        "Try it yourself 9.3"
      ],
      "metadata": {
        "id": "rZ2zqQHGBTKB"
      }
    },
    {
      "cell_type": "code",
      "source": [
        "def whightSpaceRemover(string):\n",
        "    output =''\n",
        "    for char in string:\n",
        "        if char != ' ':\n",
        "                output = output + char\n",
        "        else:\n",
        "            continue\n",
        "    return output\n",
        "\n",
        "\n",
        "class User:\n",
        "    def __init__(self,FirstName,LastName):\n",
        "        self.FirstName = FirstName\n",
        "        self.LastName = LastName\n",
        "        self.Name = self.FirstName +\" \"+ self.LastName\n",
        "        self.email = whightSpaceRemover(self.FirstName) + '@' + whightSpaceRemover(self.LastName) + '.com'\n",
        "\n",
        "\n",
        "\n",
        "    def describe_user(self):\n",
        "        print('Name:' + ' ' + self.Name)\n",
        "        print('Email: ' + self.email)\n",
        "    def greet_user(self):\n",
        "        print(\"Hellow \" + self.Name + '.' +\" Feel very pleasure by meeting with you. \" + 'Welcome to our python intoductory course')\n",
        "\n",
        "\n",
        "user_1 = User('Fardin Ahasan','Maraz')\n",
        "user_2 = User('Fahim Ahasan','Mitul')\n",
        "\n",
        "user_1.describe_user()\n",
        "user_1.greet_user()\n",
        "user_2.describe_user()\n",
        "user_2.greet_user()"
      ],
      "metadata": {
        "colab": {
          "base_uri": "https://localhost:8080/"
        },
        "id": "3IpvRg2bBUE9",
        "outputId": "223cd9a7-07ae-4d85-9a8e-d653383d7a82"
      },
      "execution_count": null,
      "outputs": [
        {
          "output_type": "stream",
          "name": "stdout",
          "text": [
            "Name: Fardin Ahasan Maraz\n",
            "Email: FardinAhasan@Maraz.com\n",
            "Hellow Fardin Ahasan Maraz. Feel very pleasure by meeting with you. Welcome to our python intoductory course\n",
            "Name: Fahim Ahasan Mitul\n",
            "Email: FahimAhasan@Mitul.com\n",
            "Hellow Fahim Ahasan Mitul. Feel very pleasure by meeting with you. Welcome to our python intoductory course\n"
          ]
        }
      ]
    },
    {
      "cell_type": "code",
      "source": [
        "listx = 'fardin '\n",
        "print(type(listx))\n",
        "a = list(listx)\n",
        "print(type(a))"
      ],
      "metadata": {
        "colab": {
          "base_uri": "https://localhost:8080/"
        },
        "id": "9SN7zU_D0sI8",
        "outputId": "f9c12119-2c9a-417e-f2db-0196de888a5b"
      },
      "execution_count": null,
      "outputs": [
        {
          "output_type": "stream",
          "name": "stdout",
          "text": [
            "<class 'str'>\n",
            "<class 'list'>\n"
          ]
        }
      ]
    },
    {
      "cell_type": "code",
      "source": [
        "x = \"sakib\" \" maraz\" ' abul'\n",
        "print(x)"
      ],
      "metadata": {
        "colab": {
          "base_uri": "https://localhost:8080/"
        },
        "id": "5qsljZpg3Diz",
        "outputId": "f0c50072-487d-4517-b457-7374415630ca"
      },
      "execution_count": null,
      "outputs": [
        {
          "output_type": "stream",
          "name": "stdout",
          "text": [
            "sakib maraz abul\n"
          ]
        }
      ]
    },
    {
      "cell_type": "code",
      "source": [
        "name = 'saikib'  #take a name\n",
        "namelist = list(name)  #convert to string\n",
        "print(namelist.remove('i')) #remove 'i' from the list\n",
        "print(namelist)             #print the list\n",
        "list_to_string = str(namelist)  # then use str() function to list to  see what happen\n",
        "type(list_to_string)            #seeing the type of the list\n",
        "print(list_to_string)\n",
        "l2s = ''\n",
        "for i in namelist:\n",
        "    l2s = l2s + i;\n",
        "print(l2s)\n",
        "\n"
      ],
      "metadata": {
        "colab": {
          "base_uri": "https://localhost:8080/"
        },
        "id": "iot7wt1ECj6w",
        "outputId": "bdb3ea92-db92-4d64-dfbc-eda79837747e"
      },
      "execution_count": null,
      "outputs": [
        {
          "output_type": "stream",
          "name": "stdout",
          "text": [
            "None\n",
            "['s', 'a', 'k', 'i', 'b']\n",
            "['s', 'a', 'k', 'i', 'b']\n",
            "sakib\n"
          ]
        }
      ]
    },
    {
      "cell_type": "code",
      "source": [
        "    def whightSpaceRemover(string):\n",
        "        output =''\n",
        "        for char in string:\n",
        "            if char != ' ':\n",
        "                output = output + char\n",
        "            else:\n",
        "                continue\n",
        "        return output\n",
        "\n",
        "    name = 'Fardin Ahasan Maraz'\n",
        "    print(whightSpaceRemover(name))"
      ],
      "metadata": {
        "colab": {
          "base_uri": "https://localhost:8080/"
        },
        "id": "_mIVof2eIuEi",
        "outputId": "9d37196c-8928-4fb1-8d07-7d474c937b41"
      },
      "execution_count": null,
      "outputs": [
        {
          "output_type": "stream",
          "name": "stdout",
          "text": [
            "FardinAhasanMaraz\n"
          ]
        }
      ]
    },
    {
      "cell_type": "markdown",
      "source": [
        "\n"
      ],
      "metadata": {
        "id": "v15t6Eq8Lrm6"
      }
    },
    {
      "cell_type": "code",
      "source": [
        "class Test():\n",
        "    def __init__(self,x,y):\n",
        "        #self.name = name\n",
        "        self.x = x\n",
        "        self.y = y\n",
        "\n",
        "\n",
        "\n",
        "\n",
        "    def massage(self):\n",
        "        print('x')\n",
        "        x = self.x + self.y\n",
        "        print(x)\n",
        "\n",
        "\n",
        "instance1 = Test(5,6)\n",
        "\n",
        "instance1.massage()\n"
      ],
      "metadata": {
        "colab": {
          "base_uri": "https://localhost:8080/"
        },
        "id": "AV13FXwWMqUQ",
        "outputId": "b4e25855-0a11-4151-c022-2216bc260ed6"
      },
      "execution_count": null,
      "outputs": [
        {
          "output_type": "stream",
          "name": "stdout",
          "text": [
            "x\n",
            "11\n"
          ]
        }
      ]
    },
    {
      "cell_type": "markdown",
      "source": [
        "Try it yourself 9.4"
      ],
      "metadata": {
        "id": "NEb3lA5Ikp2K"
      }
    },
    {
      "cell_type": "code",
      "source": [
        "class Restaurant2:\n",
        "    def __init__(self,restaurant_name,cuisine):\n",
        "        self.restaurant_name = restaurant_name\n",
        "        self.cuisine = cuisine\n",
        "        self.number_served = 0;\n",
        "\n",
        "    def descrive_restaurant(self):\n",
        "        print(f\"Restaurant Name : {self.restaurant_name}\\nCuisine Type : {self.cuisine}\")\n",
        "    def open_restaurant(self):\n",
        "        print(\"restaurant is open\")\n",
        "\n",
        "    def set_number_served(self,customer_served):\n",
        "        self.number_served = customer_served\n",
        "\n",
        "    def increment_served_number(self,number):\n",
        "        self.number_served += number\n",
        "\n",
        "\n",
        "\n",
        "restaurant = Restaurant2('FAM kithcen','Bangladeshi')\n",
        "print(restaurant.number_served)\n",
        "\n",
        "restaurant.number_served = 45\n",
        "print(restaurant.number_served)\n",
        "\n",
        "restaurant.set_number_served(405)\n",
        "print(restaurant.number_served)\n",
        "\n",
        "restaurant.increment_served_number(5)\n",
        "print(restaurant.number_served)\n"
      ],
      "metadata": {
        "colab": {
          "base_uri": "https://localhost:8080/"
        },
        "id": "8WXh7tBKkpff",
        "outputId": "67b96cbe-1f4b-489e-d87f-5af04d26fe11"
      },
      "execution_count": null,
      "outputs": [
        {
          "output_type": "stream",
          "name": "stdout",
          "text": [
            "0\n",
            "45\n",
            "405\n",
            "410\n"
          ]
        }
      ]
    },
    {
      "cell_type": "markdown",
      "source": [
        "9.5"
      ],
      "metadata": {
        "id": "5paZP15sr7l5"
      }
    },
    {
      "cell_type": "code",
      "source": [
        "def whightSpaceRemover(string):\n",
        "    output =''\n",
        "    for char in string:\n",
        "        if char != ' ':\n",
        "                output = output + char\n",
        "        else:\n",
        "            continue\n",
        "    return output\n",
        "\n",
        "\n",
        "class User:\n",
        "    def __init__(self,FirstName,LastName):\n",
        "        self.FirstName = FirstName\n",
        "        self.LastName = LastName\n",
        "        self.Name = self.FirstName +\" \"+ self.LastName\n",
        "        self.email = whightSpaceRemover(self.FirstName) + '@' + whightSpaceRemover(self.LastName) + '.com'\n",
        "        self.login_attempts =0;\n",
        "\n",
        "\n",
        "    def describe_user(self):\n",
        "        print('Name:' + ' ' + self.Name)\n",
        "        print('Email: ' + self.email)\n",
        "    def greet_user(self):\n",
        "        print(\"Hellow \" + self.Name + '.' +\" Feel very pleasure by meeting with you. \" + 'Welcome to our python intoductory course')\n",
        "\n",
        "    def increment_login_attempts(self):\n",
        "        self.login_attempts += 1\n",
        "\n",
        "    def  reset_login_attempts(self):\n",
        "        self.login_attempts =  0;\n",
        "\n",
        "user_5 = User('Maraz',\"Fardin\")\n",
        "for i in range(5):\n",
        "    user_5.increment_login_attempts()\n",
        "\n",
        "print(user_5.login_attempts)\n",
        "\n",
        "user_5.reset_login_attempts()\n",
        "print(user_5.login_attempts)\n"
      ],
      "metadata": {
        "colab": {
          "base_uri": "https://localhost:8080/"
        },
        "id": "yZCpOsHlr9Ws",
        "outputId": "b68aa7ce-e2b3-41b6-d147-f91e849ab3cc"
      },
      "execution_count": null,
      "outputs": [
        {
          "output_type": "stream",
          "name": "stdout",
          "text": [
            "5\n",
            "0\n"
          ]
        }
      ]
    },
    {
      "cell_type": "markdown",
      "source": [
        "Inheritances"
      ],
      "metadata": {
        "id": "3-_l723Fzgw_"
      }
    },
    {
      "cell_type": "code",
      "source": [
        "class Car :\n",
        "    def __init__(self,make,model,year):\n",
        "\n",
        "        self.make = make\n",
        "        self.model = model\n",
        "        self.year = year\n",
        "        self.odometer_reading = 0\n",
        "\n",
        "    def get_descriptive_name(self):\n",
        "\n",
        "        long_name = f\"{self.year} {self.make} {self.model}\"\n",
        "        return long_name.title()\n",
        "\n",
        "    def read_odometer(self):\n",
        "        print(f\"This car has {self.odometer_reading} miles on it.\")\n",
        "\n",
        "    def update_odometer(self,milage):\n",
        "\n",
        "        if milage > self.odometer_reading :\n",
        "            self.odometer_reading = milage\n",
        "        else:\n",
        "            print('you can not roll back the odometer reading')\n",
        "\n",
        "    def increment_odometer(self,miles):\n",
        "        self.odometer_reading += miles\n",
        "\n",
        "class Battery():\n",
        "    def __init__(self,battery_size = 40):\n",
        "        self.battery_size = battery_size\n",
        "\n",
        "    def describe_battery(self):\n",
        "        print(f'this car has {self.battery_size} kwh battery')\n",
        "    def input_battery_size(self,size):\n",
        "        self.battery_size = size\n",
        "\n",
        "    def get_range(self,size):\n",
        "        if self.battery_size == 40:\n",
        "            print(f'You can go {self.battery_size} mills on a full charge')\n",
        "        elif self.battery_size == 65\n",
        "            print(f'You can go {self.battery_size} mills on a full charge')\n",
        "\n",
        "class ElectricCar(Car):\n",
        "    def __init__(self,make,model,year):\n",
        "        super().__init__(make,model,year)\n",
        "        self.battery = Battery()\n",
        "\n",
        "\n",
        "my_tesla = ElectricCar('tesla','x13',2017)\n",
        "print(my_tesla.get_descriptive_name())\n",
        "my_tesla.battery.describe_battery()\n",
        "self\n",
        "\n",
        "my_tesla.battery.input_battery_size(65)\n",
        "my_tesla.battery.describe_battery()\n",
        "\n"
      ],
      "metadata": {
        "id": "PuroPfbjtLl5",
        "colab": {
          "base_uri": "https://localhost:8080/"
        },
        "outputId": "0e227f6d-b9e6-42f4-bc86-303c1c4acdca"
      },
      "execution_count": 16,
      "outputs": [
        {
          "output_type": "stream",
          "name": "stdout",
          "text": [
            "2017 Tesla X13\n",
            "this car has 40 kwh battery\n",
            "this car has 65 kwh battery\n"
          ]
        }
      ]
    },
    {
      "cell_type": "markdown",
      "source": [
        "Try it yourself9.6"
      ],
      "metadata": {
        "id": "_-h-v368yQCT"
      }
    },
    {
      "cell_type": "code",
      "source": [
        "class Restaurant9_4:\n",
        "    def __init__(self,restaurant_name,cuisine):\n",
        "        self.restaurant_name = restaurant_name\n",
        "        self.cuisine = cuisine\n",
        "        self.number_served = 0;\n",
        "\n",
        "    def descrive_restaurant(self):\n",
        "        print(f\"Restaurant Name : {self.restaurant_name}\\nCuisine Type : {self.cuisine}\")\n",
        "    def open_restaurant(self):\n",
        "        print(\"restaurant is open\")\n",
        "\n",
        "    def set_number_served(self,customer_served):\n",
        "        self.number_served = customer_served\n",
        "\n",
        "    def increment_served_number(self,number):\n",
        "        self.number_served += number\n",
        "\n",
        "class IceCreamStand(Restaurant9_4):\n",
        "    def __init__(self,restaurant_name,cuisine):\n",
        "        super().__init__(restaurant_name,cuisine)\n",
        "        self.flavours = ['venila','stobary','pineapple']\n",
        "\n",
        "    def display_flavors(self):\n",
        "        print(f'Available Flavours = {self.flavours}')\n",
        "\n",
        "my_icecream_shop = IceCreamStand(\"FAM icecream\",'not valid')\n",
        "my_icecream_shop.display_flavors()"
      ],
      "metadata": {
        "colab": {
          "base_uri": "https://localhost:8080/"
        },
        "id": "wP3TBbuRbNZg",
        "outputId": "5957c893-f931-4f2d-e6a6-e0f556706b10"
      },
      "execution_count": 18,
      "outputs": [
        {
          "output_type": "stream",
          "name": "stdout",
          "text": [
            "Available Flavours = ['venila', 'stobary', 'pineapple']\n"
          ]
        }
      ]
    },
    {
      "cell_type": "markdown",
      "source": [
        "9.7"
      ],
      "metadata": {
        "id": "2VJj5JnLya9I"
      }
    },
    {
      "cell_type": "code",
      "source": [
        "def  whightSpaceRemover(string):\n",
        "    output =''\n",
        "    for char in string:\n",
        "        if char != ' ':\n",
        "                output = output + char\n",
        "        else:\n",
        "            continue\n",
        "    return output\n",
        "\n",
        "\n",
        "class User:\n",
        "    def __init__(self,FirstName,LastName):\n",
        "        self.FirstName = FirstName\n",
        "        self.LastName = LastName\n",
        "        self.Name = self.FirstName +\" \"+ self.LastName\n",
        "        self.email = whightSpaceRemover(self.FirstName) + '@' + whightSpaceRemover(self.LastName) + '.com'\n",
        "        self.login_attempts =0;\n",
        "\n",
        "\n",
        "    def describe_user(self):\n",
        "        print('Name:' + ' ' + self.Name)\n",
        "        print('Email: ' + self.email)\n",
        "    def greet_user(self):\n",
        "        print(\"Hellow \" + self.Name + '.' +\" Feel very pleasure by meeting with you. \" + 'Welcome to our python intoductory course')\n",
        "\n",
        "    def increment_login_attempts(self):\n",
        "        self.login_attempts += 1\n",
        "\n",
        "    def  reset_login_attempts(self):\n",
        "        self.login_attempts =  0;\n",
        "\n",
        "\n",
        "\n",
        "class Admin(User):\n",
        "    def __init__(self,first_name,last_name):\n",
        "        super().__init__(first_name,last_name)\n",
        "\n",
        "        self.privileges = ['can add post','can delete post','can ban user']\n",
        "\n",
        "    def show_privileges(self):\n",
        "        print('list of privilages of Admin'.title())\n",
        "\n",
        "        i = 1;\n",
        "\n",
        "        for privilage in self.privileges:\n",
        "            print(f'{i}.{privilage}')\n",
        "            i +=1;\n",
        "\n",
        "admin1 = Admin('Fardin Ahasan','Maraz')\n",
        "admin1.show_privileges()"
      ],
      "metadata": {
        "colab": {
          "base_uri": "https://localhost:8080/"
        },
        "id": "8PODwOUcyeVu",
        "outputId": "539b1f70-00b2-4d69-d687-79aba523e498"
      },
      "execution_count": 6,
      "outputs": [
        {
          "output_type": "stream",
          "name": "stdout",
          "text": [
            "List Of Privilages Of Admin\n",
            "1.can add post\n",
            "2.can delete post\n",
            "3.can ban user\n"
          ]
        }
      ]
    },
    {
      "cell_type": "markdown",
      "source": [
        "9.8"
      ],
      "metadata": {
        "id": "UgFhc6Tr2xdd"
      }
    },
    {
      "cell_type": "code",
      "source": [
        "def  whightSpaceRemover(string):\n",
        "    output =''\n",
        "    for char in string:\n",
        "        if char != ' ':\n",
        "                output = output + char\n",
        "        else:\n",
        "            continue\n",
        "    return output\n",
        "\n",
        "\n",
        "class User:\n",
        "    def __init__(self,FirstName,LastName):\n",
        "        self.FirstName = FirstName\n",
        "        self.LastName = LastName\n",
        "        self.Name = self.FirstName +\" \"+ self.LastName\n",
        "        self.email = whightSpaceRemover(self.FirstName) + '@' + whightSpaceRemover(self.LastName) + '.com'\n",
        "        self.login_attempts =0;\n",
        "\n",
        "\n",
        "    def describe_user(self):\n",
        "        print('Name:' + ' ' + self.Name)\n",
        "        print('Email: ' + self.email)\n",
        "    def greet_user(self):\n",
        "        print(\"Hellow \" + self.Name + '.' +\" Feel very pleasure by meeting with you. \" + 'Welcome to our python intoductory course')\n",
        "\n",
        "    def increment_login_attempts(self):\n",
        "        self.login_attempts += 1\n",
        "\n",
        "    def  reset_login_attempts(self):\n",
        "        self.login_attempts =  0;\n",
        "\n",
        "\n",
        "class Privileges():\n",
        "    def __init__(self):\n",
        "        self.privileges = ['can add post','can delete post','can ban user']\n",
        "\n",
        "    def show_privileges(self):\n",
        "        print('Show privileges of admin'.title())\n",
        "        i = 1;\n",
        "        for privilage in self.privileges:\n",
        "            print(f'{i}.{privilage}')\n",
        "            i +=1;\n",
        "\n",
        "class Admin(User):\n",
        "    def __init__(self,first_name,last_name):\n",
        "        super().__init__(first_name,last_name)\n",
        "\n",
        "        self.privileges = Privileges();\n",
        "\n",
        "admin1 = Admin('Fardin Ahasan','Maraz')\n",
        "\n",
        "admin1.privileges.show_privileges()"
      ],
      "metadata": {
        "colab": {
          "base_uri": "https://localhost:8080/"
        },
        "id": "M2UKJzPu2y-_",
        "outputId": "5ef75090-d16e-487c-b0db-01de113a95c0"
      },
      "execution_count": 9,
      "outputs": [
        {
          "output_type": "stream",
          "name": "stdout",
          "text": [
            "Show Privileges Of Admin\n",
            "1.can add post\n",
            "2.can delete post\n",
            "3.can ban user\n"
          ]
        }
      ]
    },
    {
      "cell_type": "markdown",
      "source": [
        "TIY 9.9"
      ],
      "metadata": {
        "id": "BBwCDwxA6TtN"
      }
    },
    {
      "cell_type": "code",
      "source": [
        "class Car :\n",
        "    def __init__(self,make,model,year):\n",
        "\n",
        "        self.make = make\n",
        "        self.model = model\n",
        "        self.year = year\n",
        "        self.odometer_reading = 0\n",
        "\n",
        "    def get_descriptive_name(self):\n",
        "\n",
        "        long_name = f\"{self.year} {self.make} {self.model}\"\n",
        "        return long_name.title()\n",
        "\n",
        "    def read_odometer(self):\n",
        "        print(f\"This car has {self.odometer_reading} miles on it.\")\n",
        "\n",
        "    def update_odometer(self,milage):\n",
        "\n",
        "        if milage > self.odometer_reading :\n",
        "            self.odometer_reading = milage\n",
        "        else:\n",
        "            print('you can not roll back the odometer reading')\n",
        "\n",
        "    def increment_odometer(self,miles):\n",
        "        self.odometer_reading += miles\n",
        "\n",
        "class Battery():\n",
        "    def __init__(self,battery_size = 40):\n",
        "        self.battery_size = battery_size\n",
        "\n",
        "    def describe_battery(self):\n",
        "        print(f'this car has {self.battery_size} kwh battery')\n",
        "    def input_battery_size(self,size):\n",
        "        self.battery_size = size\n",
        "\n",
        "    def get_range(self):\n",
        "        if self.battery_size == 40:\n",
        "            print(f'You can go {self.battery_size*2} mills on a full charge')\n",
        "        elif self.battery_size == 65:\n",
        "            print(f'You can go {self.battery_size*2} mills on a full charge')\n",
        "#upgrade battery size:\n",
        "    def upgrade_battery(self):\n",
        "        if self.battery_size != 65:\n",
        "            self.battery_size = 65\n",
        "\n",
        "class ElectricCar(Car):\n",
        "    def __init__(self,make,model,year):\n",
        "        super().__init__(make,model,year)\n",
        "        self.battery = Battery()\n",
        "#create intances\n",
        "my_tesla_1 = ElectricCar('tesla','x-17','2017')\n",
        "#call get_range() method from battery attribute\n",
        "my_tesla_1.battery.get_range()\n",
        "#call upgrade_battery()\n",
        "my_tesla_1.battery.upgrade_battery()\n",
        "my_tesla_1.battery.get_range()\n",
        "\n"
      ],
      "metadata": {
        "colab": {
          "base_uri": "https://localhost:8080/"
        },
        "id": "Ipkz9zKi515D",
        "outputId": "ae1367fc-ff6a-4c2b-bb1d-21adb981df5d"
      },
      "execution_count": 12,
      "outputs": [
        {
          "output_type": "stream",
          "name": "stdout",
          "text": [
            "You can go 80 mills on a full charge\n",
            "You can go 130 mills on a full charge\n"
          ]
        }
      ]
    }
  ]
}